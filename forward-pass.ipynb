{
 "cells": [
  {
   "cell_type": "code",
   "execution_count": 8,
   "metadata": {},
   "outputs": [],
   "source": [
    "import numpy as np\n",
    "from PIL import Image"
   ]
  },
  {
   "cell_type": "code",
   "execution_count": 10,
   "metadata": {},
   "outputs": [
    {
     "data": {
      "text/plain": [
       "10000"
      ]
     },
     "execution_count": 10,
     "metadata": {},
     "output_type": "execute_result"
    }
   ],
   "source": [
    "from mnist import mnist\n",
    "train_images = mnist.train_images()\n",
    "train_labels = mnist.train_labels()\n",
    "test_images = mnist.test_images()\n",
    "test_labels = mnist.test_labels()\n",
    "\n",
    "len(test_images)"
   ]
  },
  {
   "cell_type": "code",
   "execution_count": 4,
   "metadata": {},
   "outputs": [],
   "source": [
    "class Conv3x3:\n",
    "    def __init__(self, num_filters):\n",
    "        self.num_filters = num_filters\n",
    "        self.filters = np.random.randn(num_filters, 3, 3) / 9\n",
    "        \n",
    "    def iterate_regions(self, image):\n",
    "        h, w = image.shape\n",
    "        for i in range (h - 2):\n",
    "            for j in range(w - 2):\n",
    "                sample = image[i : (i + 3), j : (j + 3)]\n",
    "                yield sample, i, j\n",
    "                \n",
    "    def forward(self, image):\n",
    "        h, w = image.shape\n",
    "        output = np.zeros((h - 2, w - 2, self.num_filters))\n",
    "        for sample, i, j in self.iterate_regions(image):\n",
    "            output[i, j] = np.sum(sample * self.filters, axis=(1, 2))\n",
    "        return output"
   ]
  },
  {
   "cell_type": "code",
   "execution_count": 5,
   "metadata": {},
   "outputs": [],
   "source": [
    "class MaxPool2:\n",
    "    def iterate_regions(self, image):\n",
    "        h, w, f = image.shape\n",
    "        for i in range ((h - 1) // 2):\n",
    "            for j in range((w - 1) // 2):\n",
    "                sample = image[2*i : (2*i + 2), 2*j : (2*j + 2), :]\n",
    "                yield sample, i, j\n",
    "                \n",
    "    def forward(self, image):\n",
    "        h, w, f = image.shape\n",
    "        output = np.zeros((h // 2, w // 2, f))\n",
    "        for sample, i, j in self.iterate_regions(image):\n",
    "            output[i, j] = np.amax(sample, axis=(0, 1))\n",
    "        return output"
   ]
  },
  {
   "cell_type": "code",
   "execution_count": 6,
   "metadata": {},
   "outputs": [],
   "source": [
    "class Softmax:\n",
    "    def __init__(self, n_inputs, nodes):\n",
    "        self.n_inputs = n_inputs\n",
    "        self.nodes = nodes\n",
    "        self.weights = np.random.randn(n_inputs, nodes) / n_inputs\n",
    "        self.biases = np.zeros(nodes)\n",
    "        \n",
    "    def forward(self, input):\n",
    "        input = input.flatten()\n",
    "        z = np.dot(input, self.weights) + self.biases\n",
    "        a = np.exp(z)\n",
    "        return a / np.sum(a, axis = 0)"
   ]
  },
  {
   "cell_type": "code",
   "execution_count": 7,
   "metadata": {},
   "outputs": [
    {
     "name": "stdout",
     "output_type": "stream",
     "text": [
      "[Step 100]: Average CE = 2.464, Accuracy = 7%\n",
      "[Step 200]: Average CE = 2.501, Accuracy = 9%\n",
      "[Step 300]: Average CE = 2.568, Accuracy = 9%\n",
      "[Step 400]: Average CE = 2.533, Accuracy = 9%\n",
      "[Step 500]: Average CE = 2.594, Accuracy = 13%\n",
      "[Step 600]: Average CE = 2.601, Accuracy = 11%\n",
      "[Step 700]: Average CE = 2.615, Accuracy = 9%\n",
      "[Step 800]: Average CE = 2.492, Accuracy = 13%\n",
      "[Step 900]: Average CE = 2.674, Accuracy = 12%\n",
      "[Step 1000]: Average CE = 2.531, Accuracy = 11%\n",
      "Average Loss = 2.557\n"
     ]
    }
   ],
   "source": [
    "conv = Conv3x3(8)\n",
    "pool = MaxPool2()\n",
    "softmax = Softmax(13*13*8, 10)\n",
    "\n",
    "def forward(image, label):\n",
    "    out = conv.forward(image)\n",
    "    out = pool.forward(out)\n",
    "    out = softmax.forward(out)\n",
    "    loss = -np.log(out[label])\n",
    "    acc = 1 if np.argmax(out) == label else 0\n",
    "    return out, loss, acc\n",
    "\n",
    "loss = 0\n",
    "num_correct = 0\n",
    "avg_loss = 0\n",
    "for i, (im, label) in enumerate(zip(test_images, test_labels)):\n",
    "    _, l, acc = forward(im, label)\n",
    "    num_correct += acc\n",
    "    loss += l\n",
    "    \n",
    "    \n",
    "    if(i % 100 == 99):\n",
    "        print(\"[Step %d]: Average CE = %.3f, Accuracy = %d%%\" % (i + 1, loss / 100, num_correct))\n",
    "        avg_loss += loss\n",
    "        loss = 0\n",
    "        num_correct = 0\n",
    "        \n",
    "    if(i == 1000):\n",
    "        print(\"Average Loss = %.3f\" % (avg_loss / 1000))\n",
    "        break"
   ]
  },
  {
   "cell_type": "code",
   "execution_count": null,
   "metadata": {},
   "outputs": [],
   "source": []
  }
 ],
 "metadata": {
  "kernelspec": {
   "display_name": "Python [conda env:fastaiv1] *",
   "language": "python",
   "name": "conda-env-fastaiv1-py"
  },
  "language_info": {
   "codemirror_mode": {
    "name": "ipython",
    "version": 3
   },
   "file_extension": ".py",
   "mimetype": "text/x-python",
   "name": "python",
   "nbconvert_exporter": "python",
   "pygments_lexer": "ipython3",
   "version": "3.6.9"
  }
 },
 "nbformat": 4,
 "nbformat_minor": 2
}
